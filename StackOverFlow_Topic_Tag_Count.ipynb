{
 "cells": [
  {
   "cell_type": "code",
   "execution_count": 9,
   "metadata": {},
   "outputs": [],
   "source": [
    "from urllib.request import urlopen\n",
    "import pandas as pd\n",
    "import matplotlib.pyplot as plt\n",
    "from bs4 import BeautifulSoup as bs\n",
    "from lxml import html\n",
    "import numpy as np"
   ]
  },
  {
   "cell_type": "code",
   "execution_count": 15,
   "metadata": {},
   "outputs": [],
   "source": [
    "Topics = []\n",
    "Tag_Count =[]\n",
    "#Topic = np.array([])\n",
    "#Topic_Count = np.array([])"
   ]
  },
  {
   "cell_type": "code",
   "execution_count": 23,
   "metadata": {},
   "outputs": [],
   "source": [
    "def Extract_Details(url):\n",
    "    content = urlopen(url).read()\n",
    "    soup = bs(content,\"html.parser\")\n",
    "    \n",
    "    for tag in soup.find_all('a',attrs ={'class' :'post-tag'}):\n",
    "        Topics.append(tag.text)\n",
    "        #Topic.append(tag.text, axis =1)\n",
    "        #np.append(Topic,tag.text,axis =0)\n",
    "    for Count in soup.find_all('span', attrs ={'class' : 'item-multiplier-count'}):\n",
    "        Tag_Count.append(Count.text)\n",
    "        #Topic_Count.append(Count.text, axis =1)\n",
    "        #np.append(Tag_Count,Count.text,axis =0)\n",
    "    "
   ]
  },
  {
   "cell_type": "code",
   "execution_count": 24,
   "metadata": {},
   "outputs": [],
   "source": [
    "for i in range(1,5):\n",
    "    Extract_Details('http://stackoverflow.com/tags?page='+str(i)+'&tab=popular')\n",
    "    "
   ]
  },
  {
   "cell_type": "code",
   "execution_count": null,
   "metadata": {},
   "outputs": [],
   "source": [
    "#np.size(Topic)"
   ]
  },
  {
   "cell_type": "code",
   "execution_count": 25,
   "metadata": {},
   "outputs": [
    {
     "name": "stdout",
     "output_type": "stream",
     "text": [
      "['javascript', 'javascript', 'javascript', 'javascript', 'java', 'c#', 'php', 'android', 'python', 'jquery', 'html', 'c++', 'ios', 'css', 'mysql', 'sql', 'asp.net', 'ruby-on-rails', 'c', 'objective-c', 'arrays', '.net', 'r', 'angularjs', 'node.js', 'json', 'sql-server', 'iphone', 'swift', 'ruby', 'regex', 'ajax', 'django', 'excel', 'xml', 'asp.net-mvc', 'linux', 'database', 'wpf', 'spring', 'wordpress', 'angular', 'vba', 'string', 'python-3.x', 'xcode', 'windows', 'vb.net', 'html5', 'eclipse', 'multithreading', 'reactjs', 'mongodb', 'bash', 'git', 'oracle', 'laravel', 'twitter-bootstrap', 'postgresql', 'forms', 'image', 'macos', 'algorithm', 'pandas', 'python-2.7', 'scala', 'visual-studio', 'excel-vba', 'facebook', 'apache', 'winforms', 'list', 'matlab', 'performance', 'entity-framework', 'css3', 'hibernate', 'linq', 'swing', 'function', 'qt', 'typescript', 'rest', 'shell', 'amazon-web-services', 'maven', '.htaccess', 'api', 'azure', 'sqlite', 'powershell', 'file', 'codeigniter', 'firebase', 'perl', 'unit-testing', 'symfony', 'loops', 'google-maps', 'web-services', 'uitableview', 'csv', 'cordova', 'selenium', 'class', 'ruby-on-rails-3', 'google-chrome', 'validation', 'sorting', 'numpy', 'tsql', 'sockets', 'date', 'android-studio', 'sql-server-2008', 'xaml', 'android-layout', 'http', 'spring-mvc', 'email', 'wcf', 'jsp', 'spring-boot', 'docker', 'listview', 'express', 'opencv', 'visual-studio-2010', 'oop', 'security', 'datetime', 'apache-spark', 'c++11', 'parsing', 'user-interface', 'dictionary', 'batch-file', 'ubuntu', 'delphi', 'google-app-engine', 'object', 'react-native', 'templates', 'pointers', 'dataframe', 'asp.net-mvc-4', 'for-loop']\n"
     ]
    }
   ],
   "source": [
    "print(Topics)"
   ]
  },
  {
   "cell_type": "code",
   "execution_count": 29,
   "metadata": {},
   "outputs": [],
   "source": [
    "Topic = np.array(Topics)\n",
    "Topic_Count = np.array(Tag_Count)"
   ]
  },
  {
   "cell_type": "code",
   "execution_count": null,
   "metadata": {},
   "outputs": [],
   "source": []
  },
  {
   "cell_type": "code",
   "execution_count": 30,
   "metadata": {},
   "outputs": [],
   "source": [
    "Topic = Topic.reshape((147,1))"
   ]
  },
  {
   "cell_type": "code",
   "execution_count": 36,
   "metadata": {},
   "outputs": [],
   "source": [
    "dict = {'Topics' : 'Topics', 'Count' : Tag_Count}"
   ]
  },
  {
   "cell_type": "code",
   "execution_count": 37,
   "metadata": {},
   "outputs": [],
   "source": [
    "dataframe = pd.DataFrame(dict)"
   ]
  },
  {
   "cell_type": "code",
   "execution_count": 39,
   "metadata": {},
   "outputs": [],
   "source": [
    "data = dataframe.sort_values(by = ['Count'], ascending = False)"
   ]
  },
  {
   "cell_type": "code",
   "execution_count": 40,
   "metadata": {},
   "outputs": [
    {
     "data": {
      "text/html": [
       "<div>\n",
       "<style scoped>\n",
       "    .dataframe tbody tr th:only-of-type {\n",
       "        vertical-align: middle;\n",
       "    }\n",
       "\n",
       "    .dataframe tbody tr th {\n",
       "        vertical-align: top;\n",
       "    }\n",
       "\n",
       "    .dataframe thead th {\n",
       "        text-align: right;\n",
       "    }\n",
       "</style>\n",
       "<table border=\"1\" class=\"dataframe\">\n",
       "  <thead>\n",
       "    <tr style=\"text-align: right;\">\n",
       "      <th></th>\n",
       "      <th>Topics</th>\n",
       "      <th>Count</th>\n",
       "    </tr>\n",
       "  </thead>\n",
       "  <tbody>\n",
       "    <tr>\n",
       "      <th>6</th>\n",
       "      <td>Topics</td>\n",
       "      <td>935672</td>\n",
       "    </tr>\n",
       "    <tr>\n",
       "      <th>54</th>\n",
       "      <td>Topics</td>\n",
       "      <td>93517</td>\n",
       "    </tr>\n",
       "    <tr>\n",
       "      <th>55</th>\n",
       "      <td>Topics</td>\n",
       "      <td>92556</td>\n",
       "    </tr>\n",
       "    <tr>\n",
       "      <th>56</th>\n",
       "      <td>Topics</td>\n",
       "      <td>91850</td>\n",
       "    </tr>\n",
       "    <tr>\n",
       "      <th>57</th>\n",
       "      <td>Topics</td>\n",
       "      <td>90919</td>\n",
       "    </tr>\n",
       "    <tr>\n",
       "      <th>58</th>\n",
       "      <td>Topics</td>\n",
       "      <td>88762</td>\n",
       "    </tr>\n",
       "    <tr>\n",
       "      <th>59</th>\n",
       "      <td>Topics</td>\n",
       "      <td>88079</td>\n",
       "    </tr>\n",
       "    <tr>\n",
       "      <th>60</th>\n",
       "      <td>Topics</td>\n",
       "      <td>87764</td>\n",
       "    </tr>\n",
       "    <tr>\n",
       "      <th>61</th>\n",
       "      <td>Topics</td>\n",
       "      <td>87119</td>\n",
       "    </tr>\n",
       "    <tr>\n",
       "      <th>62</th>\n",
       "      <td>Topics</td>\n",
       "      <td>84700</td>\n",
       "    </tr>\n",
       "  </tbody>\n",
       "</table>\n",
       "</div>"
      ],
      "text/plain": [
       "    Topics   Count\n",
       "6   Topics  935672\n",
       "54  Topics   93517\n",
       "55  Topics   92556\n",
       "56  Topics   91850\n",
       "57  Topics   90919\n",
       "58  Topics   88762\n",
       "59  Topics   88079\n",
       "60  Topics   87764\n",
       "61  Topics   87119\n",
       "62  Topics   84700"
      ]
     },
     "execution_count": 40,
     "metadata": {},
     "output_type": "execute_result"
    }
   ],
   "source": [
    "data.head(10)"
   ]
  },
  {
   "cell_type": "code",
   "execution_count": null,
   "metadata": {},
   "outputs": [],
   "source": []
  }
 ],
 "metadata": {
  "kernelspec": {
   "display_name": "Python 3",
   "language": "python",
   "name": "python3"
  },
  "language_info": {
   "codemirror_mode": {
    "name": "ipython",
    "version": 3
   },
   "file_extension": ".py",
   "mimetype": "text/x-python",
   "name": "python",
   "nbconvert_exporter": "python",
   "pygments_lexer": "ipython3",
   "version": "3.7.0"
  }
 },
 "nbformat": 4,
 "nbformat_minor": 2
}
